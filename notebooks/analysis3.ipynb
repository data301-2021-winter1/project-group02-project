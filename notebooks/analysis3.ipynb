{
 "cells": [
  {
   "cell_type": "markdown",
   "source": [
    "# Charvie Yadav"
   ],
   "metadata": {}
  },
  {
   "cell_type": "markdown",
   "source": [
    "## Research question/interests\r\n",
    "\r\n",
    "Interested in looking at gender and unemployment rates"
   ],
   "metadata": {}
  }
 ],
 "metadata": {
  "orig_nbformat": 4,
  "language_info": {
   "name": "plaintext"
  }
 },
 "nbformat": 4,
 "nbformat_minor": 2
}
